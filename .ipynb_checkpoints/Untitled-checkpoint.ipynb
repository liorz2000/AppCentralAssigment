{
 "cells": [
  {
   "cell_type": "code",
   "execution_count": 1,
   "id": "fb0c84f2",
   "metadata": {},
   "outputs": [],
   "source": [
    "import pandas as pd"
   ]
  },
  {
   "cell_type": "code",
   "execution_count": 11,
   "id": "cbe57115",
   "metadata": {},
   "outputs": [],
   "source": [
    "import pandas as pd\n",
    "\n",
    "# read the Excel file\n",
    "df = pd.read_excel(\"user_data.xlsx\")\n",
    "\n",
    "# convert the 'install_dt' column to datetime format\n",
    "df['install_dt'] = pd.to_datetime(df['install_dt'])\n",
    "\n",
    "# save the DataFrame to a CSV file\n",
    "df.to_csv(\"user_data.csv\", index=False)"
   ]
  },
  {
   "cell_type": "code",
   "execution_count": 10,
   "id": "96dd1980",
   "metadata": {},
   "outputs": [],
   "source": [
    "import pandas as pd\n",
    "\n",
    "# read the Excel file\n",
    "df = pd.read_excel(\"tables/daily_data.xlsx\")\n",
    "\n",
    "# convert the 'install_dt' column to datetime format\n",
    "df['install_dt'] = pd.to_datetime(df['install_dt'])\n",
    "\n",
    "# save the DataFrame to a CSV file\n",
    "df.to_csv(\"tables/daily.csv\", index=False)"
   ]
  },
  {
   "cell_type": "code",
   "execution_count": null,
   "id": "ce65ae52",
   "metadata": {},
   "outputs": [],
   "source": []
  }
 ],
 "metadata": {
  "kernelspec": {
   "display_name": "Python 3 (ipykernel)",
   "language": "python",
   "name": "python3"
  },
  "language_info": {
   "codemirror_mode": {
    "name": "ipython",
    "version": 3
   },
   "file_extension": ".py",
   "mimetype": "text/x-python",
   "name": "python",
   "nbconvert_exporter": "python",
   "pygments_lexer": "ipython3",
   "version": "3.9.1"
  }
 },
 "nbformat": 4,
 "nbformat_minor": 5
}
